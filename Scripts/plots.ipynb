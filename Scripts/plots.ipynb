{
 "cells": [
  {
   "cell_type": "code",
   "execution_count": 42,
   "metadata": {},
   "outputs": [],
   "source": [
    "### Pacotes necessários\n",
    "import pandas as pd\n",
    "import seaborn as sns"
   ]
  },
  {
   "cell_type": "markdown",
   "metadata": {},
   "source": [
    "## Análise da Filtragem de VCFs"
   ]
  },
  {
   "cell_type": "markdown",
   "metadata": {},
   "source": [
    "### Dia 1 - Sem filtragem"
   ]
  },
  {
   "cell_type": "code",
   "execution_count": 68,
   "metadata": {},
   "outputs": [
    {
     "data": {
      "text/html": [
       "<div>\n",
       "<style scoped>\n",
       "    .dataframe tbody tr th:only-of-type {\n",
       "        vertical-align: middle;\n",
       "    }\n",
       "\n",
       "    .dataframe tbody tr th {\n",
       "        vertical-align: top;\n",
       "    }\n",
       "\n",
       "    .dataframe thead th {\n",
       "        text-align: right;\n",
       "    }\n",
       "</style>\n",
       "<table border=\"1\" class=\"dataframe\">\n",
       "  <thead>\n",
       "    <tr style=\"text-align: right;\">\n",
       "      <th></th>\n",
       "      <th>#CHROM</th>\n",
       "      <th>POS</th>\n",
       "      <th>ID</th>\n",
       "      <th>REF</th>\n",
       "      <th>ALT</th>\n",
       "      <th>QUAL</th>\n",
       "      <th>FILTER</th>\n",
       "      <th>INFO</th>\n",
       "      <th>FORMAT</th>\n",
       "      <th>temp/alignment.bam</th>\n",
       "    </tr>\n",
       "  </thead>\n",
       "  <tbody>\n",
       "    <tr>\n",
       "      <th>0</th>\n",
       "      <td>chr22</td>\n",
       "      <td>10553503</td>\n",
       "      <td>.</td>\n",
       "      <td>T</td>\n",
       "      <td>G</td>\n",
       "      <td>30.41830</td>\n",
       "      <td>.</td>\n",
       "      <td>DP=2;SGB=-0.379885;FS=0;MQ0F=0;AC=2;AN=2;DP4=0...</td>\n",
       "      <td>GT:PL</td>\n",
       "      <td>1/1:60,3,0</td>\n",
       "    </tr>\n",
       "    <tr>\n",
       "      <th>1</th>\n",
       "      <td>chr22</td>\n",
       "      <td>10553536</td>\n",
       "      <td>.</td>\n",
       "      <td>G</td>\n",
       "      <td>C</td>\n",
       "      <td>3.22451</td>\n",
       "      <td>.</td>\n",
       "      <td>DP=1;SGB=-0.379885;FS=0;MQ0F=0;AC=2;AN=2;DP4=0...</td>\n",
       "      <td>GT:PL</td>\n",
       "      <td>1/1:30,3,0</td>\n",
       "    </tr>\n",
       "    <tr>\n",
       "      <th>2</th>\n",
       "      <td>chr22</td>\n",
       "      <td>10631436</td>\n",
       "      <td>.</td>\n",
       "      <td>T</td>\n",
       "      <td>G</td>\n",
       "      <td>3.22451</td>\n",
       "      <td>.</td>\n",
       "      <td>DP=1;SGB=-0.379885;FS=0;MQ0F=0;AC=2;AN=2;DP4=0...</td>\n",
       "      <td>GT:PL</td>\n",
       "      <td>1/1:30,3,0</td>\n",
       "    </tr>\n",
       "    <tr>\n",
       "      <th>3</th>\n",
       "      <td>chr22</td>\n",
       "      <td>10631451</td>\n",
       "      <td>.</td>\n",
       "      <td>A</td>\n",
       "      <td>G</td>\n",
       "      <td>3.22451</td>\n",
       "      <td>.</td>\n",
       "      <td>DP=1;SGB=-0.379885;FS=0;MQ0F=0;AC=2;AN=2;DP4=0...</td>\n",
       "      <td>GT:PL</td>\n",
       "      <td>1/1:30,3,0</td>\n",
       "    </tr>\n",
       "    <tr>\n",
       "      <th>4</th>\n",
       "      <td>chr22</td>\n",
       "      <td>10631495</td>\n",
       "      <td>.</td>\n",
       "      <td>T</td>\n",
       "      <td>A</td>\n",
       "      <td>3.22451</td>\n",
       "      <td>.</td>\n",
       "      <td>DP=1;SGB=-0.379885;FS=0;MQ0F=0;AC=2;AN=2;DP4=0...</td>\n",
       "      <td>GT:PL</td>\n",
       "      <td>1/1:30,3,0</td>\n",
       "    </tr>\n",
       "  </tbody>\n",
       "</table>\n",
       "</div>"
      ],
      "text/plain": [
       "  #CHROM       POS ID REF ALT      QUAL FILTER  \\\n",
       "0  chr22  10553503  .   T   G  30.41830      .   \n",
       "1  chr22  10553536  .   G   C   3.22451      .   \n",
       "2  chr22  10631436  .   T   G   3.22451      .   \n",
       "3  chr22  10631451  .   A   G   3.22451      .   \n",
       "4  chr22  10631495  .   T   A   3.22451      .   \n",
       "\n",
       "                                                INFO FORMAT temp/alignment.bam  \n",
       "0  DP=2;SGB=-0.379885;FS=0;MQ0F=0;AC=2;AN=2;DP4=0...  GT:PL         1/1:60,3,0  \n",
       "1  DP=1;SGB=-0.379885;FS=0;MQ0F=0;AC=2;AN=2;DP4=0...  GT:PL         1/1:30,3,0  \n",
       "2  DP=1;SGB=-0.379885;FS=0;MQ0F=0;AC=2;AN=2;DP4=0...  GT:PL         1/1:30,3,0  \n",
       "3  DP=1;SGB=-0.379885;FS=0;MQ0F=0;AC=2;AN=2;DP4=0...  GT:PL         1/1:30,3,0  \n",
       "4  DP=1;SGB=-0.379885;FS=0;MQ0F=0;AC=2;AN=2;DP4=0...  GT:PL         1/1:30,3,0  "
      ]
     },
     "execution_count": 68,
     "metadata": {},
     "output_type": "execute_result"
    }
   ],
   "source": [
    "vcf0 = pd.read_csv(\"../temp/variants.vcf\", sep=\"\\t\", skiprows=28)\n",
    "vcf0.head()"
   ]
  },
  {
   "cell_type": "code",
   "execution_count": 96,
   "metadata": {},
   "outputs": [
    {
     "data": {
      "text/plain": [
       "(4691, 11)"
      ]
     },
     "execution_count": 96,
     "metadata": {},
     "output_type": "execute_result"
    }
   ],
   "source": [
    "vcf0.shape"
   ]
  },
  {
   "cell_type": "code",
   "execution_count": 97,
   "metadata": {},
   "outputs": [
    {
     "data": {
      "text/plain": [
       "(2254, 11)"
      ]
     },
     "execution_count": 97,
     "metadata": {},
     "output_type": "execute_result"
    }
   ],
   "source": [
    "vcf1.shape"
   ]
  },
  {
   "cell_type": "code",
   "execution_count": 69,
   "metadata": {},
   "outputs": [
    {
     "data": {
      "image/png": "[encoded data removed]",
      "text/plain": [
       "<Figure size 432x288 with 1 Axes>"
      ]
     },
     "metadata": {
      "needs_background": "light"
     },
     "output_type": "display_data"
    }
   ],
   "source": [
    "# Histograma da distribuição de qualidade\n",
    "\n",
    "plots = sns.histplot(vcf0[\"QUAL\"])\n",
    "plots.figure.savefig(\"../Figuras/vcf0_qual.png\")"
   ]
  },
  {
   "cell_type": "code",
   "execution_count": 79,
   "metadata": {},
   "outputs": [
    {
     "data": {
      "image/png": "[encoded data removed]",
      "text/plain": [
       "<Figure size 432x288 with 1 Axes>"
      ]
     },
     "metadata": {
      "needs_background": "light"
     },
     "output_type": "display_data"
    }
   ],
   "source": [
    "# Histograma da distribuição de cobertura\n",
    "vcf0[\"Depth\"] = [int(i.split(\"=\")[1].split(\";\")[0]) for i in vcf0[\"INFO\"]]\n",
    "plots = sns.histplot(vcf0[\"Depth\"])\n",
    "plots.figure.savefig(\"../Figuras/vcf0_dp.png\")"
   ]
  },
  {
   "cell_type": "code",
   "execution_count": 81,
   "metadata": {},
   "outputs": [
    {
     "data": {
      "image/png": "[encoded data removed]",
      "text/plain": [
       "<Figure size 432x288 with 1 Axes>"
      ]
     },
     "metadata": {
      "needs_background": "light"
     },
     "output_type": "display_data"
    }
   ],
   "source": [
    "# Histograma da distribuição de cobertura\n",
    "\n",
    "plots = sns.histplot(vcf0.loc[vcf0[\"Depth\"]<200, \"Depth\"])\n",
    "plots.figure.savefig(\"../Figuras/vcf0_dp<200.png\")"
   ]
  },
  {
   "cell_type": "code",
   "execution_count": 95,
   "metadata": {
    "tags": []
   },
   "outputs": [
    {
     "data": {
      "image/png": "[encoded data removed]",
      "text/plain": [
       "<Figure size 432x288 with 1 Axes>"
      ]
     },
     "metadata": {
      "needs_background": "light"
     },
     "output_type": "display_data"
    }
   ],
   "source": [
    "# Dotplot da qualidade por cobertura\n",
    "plots = sns.scatterplot(x=\"QUAL\", y=\"Depth\", data=vcf0)\n",
    "plots.figure.savefig(\"../Figuras/vcf0_qual_dp.png\")"
   ]
  },
  {
   "cell_type": "markdown",
   "metadata": {},
   "source": [
    "### Dia 1 - Após filtragem QUAL>20 & DP>10"
   ]
  },
  {
   "cell_type": "code",
   "execution_count": 82,
   "metadata": {},
   "outputs": [
    {
     "data": {
      "text/html": [
       "<div>\n",
       "<style scoped>\n",
       "    .dataframe tbody tr th:only-of-type {\n",
       "        vertical-align: middle;\n",
       "    }\n",
       "\n",
       "    .dataframe tbody tr th {\n",
       "        vertical-align: top;\n",
       "    }\n",
       "\n",
       "    .dataframe thead th {\n",
       "        text-align: right;\n",
       "    }\n",
       "</style>\n",
       "<table border=\"1\" class=\"dataframe\">\n",
       "  <thead>\n",
       "    <tr style=\"text-align: right;\">\n",
       "      <th></th>\n",
       "      <th>#CHROM</th>\n",
       "      <th>POS</th>\n",
       "      <th>ID</th>\n",
       "      <th>REF</th>\n",
       "      <th>ALT</th>\n",
       "      <th>QUAL</th>\n",
       "      <th>FILTER</th>\n",
       "      <th>INFO</th>\n",
       "      <th>FORMAT</th>\n",
       "      <th>temp/alignment.bam</th>\n",
       "    </tr>\n",
       "  </thead>\n",
       "  <tbody>\n",
       "    <tr>\n",
       "      <th>0</th>\n",
       "      <td>chr22</td>\n",
       "      <td>10637059</td>\n",
       "      <td>.</td>\n",
       "      <td>C</td>\n",
       "      <td>T</td>\n",
       "      <td>228.2270</td>\n",
       "      <td>PASS</td>\n",
       "      <td>DP=86;VDB=0.00152636;SGB=-0.693147;RPBZ=3.1643...</td>\n",
       "      <td>GT:PL</td>\n",
       "      <td>1/1:255,144,0</td>\n",
       "    </tr>\n",
       "    <tr>\n",
       "      <th>1</th>\n",
       "      <td>chr22</td>\n",
       "      <td>10637150</td>\n",
       "      <td>.</td>\n",
       "      <td>T</td>\n",
       "      <td>G</td>\n",
       "      <td>123.4150</td>\n",
       "      <td>PASS</td>\n",
       "      <td>DP=35;VDB=0.598497;SGB=-0.693136;FS=0;MQ0F=0;A...</td>\n",
       "      <td>GT:PL</td>\n",
       "      <td>1/1:153,105,0</td>\n",
       "    </tr>\n",
       "    <tr>\n",
       "      <th>2</th>\n",
       "      <td>chr22</td>\n",
       "      <td>10685824</td>\n",
       "      <td>.</td>\n",
       "      <td>A</td>\n",
       "      <td>T</td>\n",
       "      <td>81.2678</td>\n",
       "      <td>PASS</td>\n",
       "      <td>DP=13;VDB=0.276556;SGB=-0.636426;RPBZ=1.57576;...</td>\n",
       "      <td>GT:PL</td>\n",
       "      <td>0/1:114,0,72</td>\n",
       "    </tr>\n",
       "    <tr>\n",
       "      <th>3</th>\n",
       "      <td>chr22</td>\n",
       "      <td>10685838</td>\n",
       "      <td>.</td>\n",
       "      <td>G</td>\n",
       "      <td>A</td>\n",
       "      <td>50.4040</td>\n",
       "      <td>PASS</td>\n",
       "      <td>DP=15;VDB=0.0732611;SGB=-0.616816;RPBZ=2.00706...</td>\n",
       "      <td>GT:PL</td>\n",
       "      <td>0/1:83,0,80</td>\n",
       "    </tr>\n",
       "    <tr>\n",
       "      <th>4</th>\n",
       "      <td>chr22</td>\n",
       "      <td>10742020</td>\n",
       "      <td>.</td>\n",
       "      <td>T</td>\n",
       "      <td>C</td>\n",
       "      <td>162.4160</td>\n",
       "      <td>PASS</td>\n",
       "      <td>DP=11;VDB=0.767716;SGB=-0.670168;FS=0;MQ0F=0;A...</td>\n",
       "      <td>GT:PL</td>\n",
       "      <td>1/1:192,30,0</td>\n",
       "    </tr>\n",
       "  </tbody>\n",
       "</table>\n",
       "</div>"
      ],
      "text/plain": [
       "  #CHROM       POS ID REF ALT      QUAL FILTER  \\\n",
       "0  chr22  10637059  .   C   T  228.2270   PASS   \n",
       "1  chr22  10637150  .   T   G  123.4150   PASS   \n",
       "2  chr22  10685824  .   A   T   81.2678   PASS   \n",
       "3  chr22  10685838  .   G   A   50.4040   PASS   \n",
       "4  chr22  10742020  .   T   C  162.4160   PASS   \n",
       "\n",
       "                                                INFO FORMAT temp/alignment.bam  \n",
       "0  DP=86;VDB=0.00152636;SGB=-0.693147;RPBZ=3.1643...  GT:PL      1/1:255,144,0  \n",
       "1  DP=35;VDB=0.598497;SGB=-0.693136;FS=0;MQ0F=0;A...  GT:PL      1/1:153,105,0  \n",
       "2  DP=13;VDB=0.276556;SGB=-0.636426;RPBZ=1.57576;...  GT:PL       0/1:114,0,72  \n",
       "3  DP=15;VDB=0.0732611;SGB=-0.616816;RPBZ=2.00706...  GT:PL        0/1:83,0,80  \n",
       "4  DP=11;VDB=0.767716;SGB=-0.670168;FS=0;MQ0F=0;A...  GT:PL       1/1:192,30,0  "
      ]
     },
     "execution_count": 82,
     "metadata": {},
     "output_type": "execute_result"
    }
   ],
   "source": [
    "vcf1 = pd.read_csv(\"../Outputs/variants_filt.vcf\", sep=\"\\t\", skiprows=31)\n",
    "vcf1.head()"
   ]
  },
  {
   "cell_type": "code",
   "execution_count": 83,
   "metadata": {},
   "outputs": [
    {
     "data": {
      "image/png": "[encoded data removed]",
      "text/plain": [
       "<Figure size 432x288 with 1 Axes>"
      ]
     },
     "metadata": {
      "needs_background": "light"
     },
     "output_type": "display_data"
    }
   ],
   "source": [
    "# Histograma da distribuição de qualidade\n",
    "\n",
    "plots = sns.histplot(vcf1[\"QUAL\"])\n",
    "plots.figure.savefig(\"../Figuras/vcf1_qual.png\")"
   ]
  },
  {
   "cell_type": "code",
   "execution_count": 84,
   "metadata": {
    "tags": []
   },
   "outputs": [
    {
     "data": {
      "image/png": "[encoded data removed]",
      "text/plain": [
       "<Figure size 432x288 with 1 Axes>"
      ]
     },
     "metadata": {
      "needs_background": "light"
     },
     "output_type": "display_data"
    }
   ],
   "source": [
    "# Histograma da distribuição de cobertura\n",
    "vcf1[\"Depth\"] = [int(i.split(\"=\")[1].split(\";\")[0]) for i in vcf1[\"INFO\"]]\n",
    "plots = sns.histplot(vcf1[\"Depth\"])\n",
    "plots.figure.savefig(\"../Figuras/vcf1_dp.png\")"
   ]
  },
  {
   "cell_type": "code",
   "execution_count": 94,
   "metadata": {
    "tags": []
   },
   "outputs": [
    {
     "data": {
      "image/png": "[encoded data removed]",
      "text/plain": [
       "<Figure size 432x288 with 1 Axes>"
      ]
     },
     "metadata": {
      "needs_background": "light"
     },
     "output_type": "display_data"
    }
   ],
   "source": [
    "# Dotplot da qualidade por cobertura\n",
    "plots = sns.scatterplot(x=\"QUAL\", y=\"Depth\", data=vcf1)\n",
    "plots.figure.savefig(\"../Figuras/vcf1_qual_dp.png\")"
   ]
  },
  {
   "cell_type": "markdown",
   "metadata": {},
   "source": [
    "### Dia 2 - Após seleção das regiões"
   ]
  },
  {
   "cell_type": "code",
   "execution_count": 86,
   "metadata": {},
   "outputs": [
    {
     "data": {
      "text/html": [
       "<div>\n",
       "<style scoped>\n",
       "    .dataframe tbody tr th:only-of-type {\n",
       "        vertical-align: middle;\n",
       "    }\n",
       "\n",
       "    .dataframe tbody tr th {\n",
       "        vertical-align: top;\n",
       "    }\n",
       "\n",
       "    .dataframe thead th {\n",
       "        text-align: right;\n",
       "    }\n",
       "</style>\n",
       "<table border=\"1\" class=\"dataframe\">\n",
       "  <thead>\n",
       "    <tr style=\"text-align: right;\">\n",
       "      <th></th>\n",
       "      <th>#CHROM</th>\n",
       "      <th>POS</th>\n",
       "      <th>ID</th>\n",
       "      <th>REF</th>\n",
       "      <th>ALT</th>\n",
       "      <th>QUAL</th>\n",
       "      <th>FILTER</th>\n",
       "      <th>INFO</th>\n",
       "      <th>FORMAT</th>\n",
       "      <th>temp/alignment.bam</th>\n",
       "    </tr>\n",
       "  </thead>\n",
       "  <tbody>\n",
       "    <tr>\n",
       "      <th>0</th>\n",
       "      <td>chr22</td>\n",
       "      <td>15528179</td>\n",
       "      <td>.</td>\n",
       "      <td>G</td>\n",
       "      <td>T</td>\n",
       "      <td>75.8304</td>\n",
       "      <td>PASS</td>\n",
       "      <td>DP=144;VDB=0.720191;SGB=-0.693097;RPBZ=1.05314...</td>\n",
       "      <td>GT:PL</td>\n",
       "      <td>0/1:110,0,255</td>\n",
       "    </tr>\n",
       "    <tr>\n",
       "      <th>1</th>\n",
       "      <td>chr22</td>\n",
       "      <td>15695704</td>\n",
       "      <td>.</td>\n",
       "      <td>G</td>\n",
       "      <td>A</td>\n",
       "      <td>166.3860</td>\n",
       "      <td>PASS</td>\n",
       "      <td>DP=150;VDB=0.768605;SGB=-0.692067;RPBZ=-0.7298...</td>\n",
       "      <td>GT:PL</td>\n",
       "      <td>0/1:201,0,255</td>\n",
       "    </tr>\n",
       "    <tr>\n",
       "      <th>2</th>\n",
       "      <td>chr22</td>\n",
       "      <td>15820050</td>\n",
       "      <td>.</td>\n",
       "      <td>A</td>\n",
       "      <td>C</td>\n",
       "      <td>222.2540</td>\n",
       "      <td>PASS</td>\n",
       "      <td>DP=211;VDB=0.391693;SGB=-0.693147;RPBZ=-0.5045...</td>\n",
       "      <td>GT:PL</td>\n",
       "      <td>0/1:255,0,255</td>\n",
       "    </tr>\n",
       "    <tr>\n",
       "      <th>3</th>\n",
       "      <td>chr22</td>\n",
       "      <td>15820080</td>\n",
       "      <td>.</td>\n",
       "      <td>A</td>\n",
       "      <td>G</td>\n",
       "      <td>222.2910</td>\n",
       "      <td>PASS</td>\n",
       "      <td>DP=283;VDB=0.0734191;SGB=-0.693147;RPBZ=-0.319...</td>\n",
       "      <td>GT:PL</td>\n",
       "      <td>0/1:255,0,255</td>\n",
       "    </tr>\n",
       "    <tr>\n",
       "      <th>4</th>\n",
       "      <td>chr22</td>\n",
       "      <td>15820150</td>\n",
       "      <td>.</td>\n",
       "      <td>C</td>\n",
       "      <td>A</td>\n",
       "      <td>221.3910</td>\n",
       "      <td>PASS</td>\n",
       "      <td>DP=265;VDB=0.429241;SGB=-0.693147;RPBZ=1.75647...</td>\n",
       "      <td>GT:PL</td>\n",
       "      <td>0/1:255,0,255</td>\n",
       "    </tr>\n",
       "  </tbody>\n",
       "</table>\n",
       "</div>"
      ],
      "text/plain": [
       "  #CHROM       POS ID REF ALT      QUAL FILTER  \\\n",
       "0  chr22  15528179  .   G   T   75.8304   PASS   \n",
       "1  chr22  15695704  .   G   A  166.3860   PASS   \n",
       "2  chr22  15820050  .   A   C  222.2540   PASS   \n",
       "3  chr22  15820080  .   A   G  222.2910   PASS   \n",
       "4  chr22  15820150  .   C   A  221.3910   PASS   \n",
       "\n",
       "                                                INFO FORMAT temp/alignment.bam  \n",
       "0  DP=144;VDB=0.720191;SGB=-0.693097;RPBZ=1.05314...  GT:PL      0/1:110,0,255  \n",
       "1  DP=150;VDB=0.768605;SGB=-0.692067;RPBZ=-0.7298...  GT:PL      0/1:201,0,255  \n",
       "2  DP=211;VDB=0.391693;SGB=-0.693147;RPBZ=-0.5045...  GT:PL      0/1:255,0,255  \n",
       "3  DP=283;VDB=0.0734191;SGB=-0.693147;RPBZ=-0.319...  GT:PL      0/1:255,0,255  \n",
       "4  DP=265;VDB=0.429241;SGB=-0.693147;RPBZ=1.75647...  GT:PL      0/1:255,0,255  "
      ]
     },
     "execution_count": 86,
     "metadata": {},
     "output_type": "execute_result"
    }
   ],
   "source": [
    "vcf2 = pd.read_csv(\"../Outputs/variants_filt_reg.vcf\", sep=\"\\t\", skiprows=32)\n",
    "vcf2.head()"
   ]
  },
  {
   "cell_type": "code",
   "execution_count": 102,
   "metadata": {},
   "outputs": [
    {
     "data": {
      "image/png": "[encoded data removed]",
      "text/plain": [
       "<Figure size 432x288 with 1 Axes>"
      ]
     },
     "metadata": {
      "needs_background": "light"
     },
     "output_type": "display_data"
    }
   ],
   "source": [
    "# Histograma da distribuição de qualidade\n",
    "\n",
    "plots = sns.histplot(vcf2[\"QUAL\"], binwidth=5)\n",
    "plots.figure.savefig(\"../Figuras/vcf2_qual.png\")"
   ]
  },
  {
   "cell_type": "code",
   "execution_count": 90,
   "metadata": {
    "tags": []
   },
   "outputs": [
    {
     "data": {
      "image/png": "[encoded data removed]",
      "text/plain": [
       "<Figure size 432x288 with 1 Axes>"
      ]
     },
     "metadata": {
      "needs_background": "light"
     },
     "output_type": "display_data"
    }
   ],
   "source": [
    "# Histograma da distribuição de cobertura\n",
    "vcf2[\"Depth\"] = [int(i.split(\"=\")[1].split(\";\")[0]) for i in vcf2[\"INFO\"]]\n",
    "plots = sns.histplot(vcf2[\"Depth\"])\n",
    "plots.figure.savefig(\"../Figuras/vcf2_dp.png\")"
   ]
  },
  {
   "cell_type": "code",
   "execution_count": 93,
   "metadata": {
    "tags": []
   },
   "outputs": [
    {
     "data": {
      "image/png": "[encoded data removed]",
      "text/plain": [
       "<Figure size 432x288 with 1 Axes>"
      ]
     },
     "metadata": {
      "needs_background": "light"
     },
     "output_type": "display_data"
    }
   ],
   "source": [
    "# Dotplot da qualidade por cobertura\n",
    "plots = sns.scatterplot(x=\"QUAL\", y=\"Depth\", data=vcf2)\n",
    "plots.figure.savefig(\"../Figuras/vcf2_qual_dp.png\")"
   ]
  },
  {
   "cell_type": "markdown",
   "metadata": {},
   "source": [
    "## Análise da Cobertura"
   ]
  },
  {
   "cell_type": "markdown",
   "metadata": {},
   "source": [
    "### Regiões cobertas pelo painel"
   ]
  },
  {
   "cell_type": "code",
   "execution_count": 43,
   "metadata": {},
   "outputs": [
    {
     "data": {
      "text/html": [
       "<div>\n",
       "<style scoped>\n",
       "    .dataframe tbody tr th:only-of-type {\n",
       "        vertical-align: middle;\n",
       "    }\n",
       "\n",
       "    .dataframe tbody tr th {\n",
       "        vertical-align: top;\n",
       "    }\n",
       "\n",
       "    .dataframe thead th {\n",
       "        text-align: right;\n",
       "    }\n",
       "</style>\n",
       "<table border=\"1\" class=\"dataframe\">\n",
       "  <thead>\n",
       "    <tr style=\"text-align: right;\">\n",
       "      <th></th>\n",
       "      <th>Chr</th>\n",
       "      <th>Start</th>\n",
       "      <th>End</th>\n",
       "      <th>Name</th>\n",
       "      <th>Coverage</th>\n",
       "      <th>Covered Length</th>\n",
       "      <th>Full Length</th>\n",
       "      <th>Coverage Percentage</th>\n",
       "    </tr>\n",
       "  </thead>\n",
       "  <tbody>\n",
       "    <tr>\n",
       "      <th>0</th>\n",
       "      <td>chr22</td>\n",
       "      <td>15528158</td>\n",
       "      <td>15529139</td>\n",
       "      <td>OR11H1_1</td>\n",
       "      <td>2119</td>\n",
       "      <td>981</td>\n",
       "      <td>981</td>\n",
       "      <td>1.0</td>\n",
       "    </tr>\n",
       "    <tr>\n",
       "      <th>1</th>\n",
       "      <td>chr22</td>\n",
       "      <td>15690077</td>\n",
       "      <td>15690709</td>\n",
       "      <td>POTEH_1</td>\n",
       "      <td>1418</td>\n",
       "      <td>632</td>\n",
       "      <td>632</td>\n",
       "      <td>1.0</td>\n",
       "    </tr>\n",
       "    <tr>\n",
       "      <th>2</th>\n",
       "      <td>chr22</td>\n",
       "      <td>15695367</td>\n",
       "      <td>15695487</td>\n",
       "      <td>POTEH_2</td>\n",
       "      <td>211</td>\n",
       "      <td>120</td>\n",
       "      <td>120</td>\n",
       "      <td>1.0</td>\n",
       "    </tr>\n",
       "    <tr>\n",
       "      <th>3</th>\n",
       "      <td>chr22</td>\n",
       "      <td>15695644</td>\n",
       "      <td>15695818</td>\n",
       "      <td>POTEH_3</td>\n",
       "      <td>234</td>\n",
       "      <td>174</td>\n",
       "      <td>174</td>\n",
       "      <td>1.0</td>\n",
       "    </tr>\n",
       "    <tr>\n",
       "      <th>4</th>\n",
       "      <td>chr22</td>\n",
       "      <td>15698654</td>\n",
       "      <td>15698774</td>\n",
       "      <td>POTEH_4</td>\n",
       "      <td>108</td>\n",
       "      <td>120</td>\n",
       "      <td>120</td>\n",
       "      <td>1.0</td>\n",
       "    </tr>\n",
       "  </tbody>\n",
       "</table>\n",
       "</div>"
      ],
      "text/plain": [
       "     Chr     Start       End      Name  Coverage  Covered Length  Full Length  \\\n",
       "0  chr22  15528158  15529139  OR11H1_1      2119             981          981   \n",
       "1  chr22  15690077  15690709   POTEH_1      1418             632          632   \n",
       "2  chr22  15695367  15695487   POTEH_2       211             120          120   \n",
       "3  chr22  15695644  15695818   POTEH_3       234             174          174   \n",
       "4  chr22  15698654  15698774   POTEH_4       108             120          120   \n",
       "\n",
       "   Coverage Percentage  \n",
       "0                  1.0  \n",
       "1                  1.0  \n",
       "2                  1.0  \n",
       "3                  1.0  \n",
       "4                  1.0  "
      ]
     },
     "execution_count": 43,
     "metadata": {},
     "output_type": "execute_result"
    }
   ],
   "source": [
    "# Leitura do pequeno-gabarito\n",
    "good = pd.read_csv('../temp/hist_good.bed', sep=\"\\t\", header=None)\n",
    "good.columns = [\"Chr\", \"Start\", \"End\", \"Name\", \"Coverage\", \"Covered Length\", \"Full Length\", \"Coverage Percentage\"]\n",
    "good.head()"
   ]
  },
  {
   "cell_type": "code",
   "execution_count": 55,
   "metadata": {},
   "outputs": [
    {
     "data": {
      "text/html": [
       "<div>\n",
       "<style scoped>\n",
       "    .dataframe tbody tr th:only-of-type {\n",
       "        vertical-align: middle;\n",
       "    }\n",
       "\n",
       "    .dataframe tbody tr th {\n",
       "        vertical-align: top;\n",
       "    }\n",
       "\n",
       "    .dataframe thead th {\n",
       "        text-align: right;\n",
       "    }\n",
       "</style>\n",
       "<table border=\"1\" class=\"dataframe\">\n",
       "  <thead>\n",
       "    <tr style=\"text-align: right;\">\n",
       "      <th></th>\n",
       "      <th>Coverage</th>\n",
       "      <th>Covered Length</th>\n",
       "      <th>Full Length</th>\n",
       "      <th>Coverage Percentage</th>\n",
       "    </tr>\n",
       "  </thead>\n",
       "  <tbody>\n",
       "    <tr>\n",
       "      <th>count</th>\n",
       "      <td>4538.000000</td>\n",
       "      <td>4538.000000</td>\n",
       "      <td>4538.000000</td>\n",
       "      <td>4538.000000</td>\n",
       "    </tr>\n",
       "    <tr>\n",
       "      <th>mean</th>\n",
       "      <td>333.808506</td>\n",
       "      <td>203.684442</td>\n",
       "      <td>204.142794</td>\n",
       "      <td>0.998652</td>\n",
       "    </tr>\n",
       "    <tr>\n",
       "      <th>std</th>\n",
       "      <td>515.903394</td>\n",
       "      <td>292.479129</td>\n",
       "      <td>294.105149</td>\n",
       "      <td>0.022070</td>\n",
       "    </tr>\n",
       "    <tr>\n",
       "      <th>min</th>\n",
       "      <td>0.000000</td>\n",
       "      <td>0.000000</td>\n",
       "      <td>120.000000</td>\n",
       "      <td>0.000000</td>\n",
       "    </tr>\n",
       "    <tr>\n",
       "      <th>25%</th>\n",
       "      <td>178.000000</td>\n",
       "      <td>120.000000</td>\n",
       "      <td>120.000000</td>\n",
       "      <td>1.000000</td>\n",
       "    </tr>\n",
       "    <tr>\n",
       "      <th>50%</th>\n",
       "      <td>252.000000</td>\n",
       "      <td>128.000000</td>\n",
       "      <td>128.000000</td>\n",
       "      <td>1.000000</td>\n",
       "    </tr>\n",
       "    <tr>\n",
       "      <th>75%</th>\n",
       "      <td>351.000000</td>\n",
       "      <td>188.000000</td>\n",
       "      <td>188.750000</td>\n",
       "      <td>1.000000</td>\n",
       "    </tr>\n",
       "    <tr>\n",
       "      <th>max</th>\n",
       "      <td>14905.000000</td>\n",
       "      <td>6680.000000</td>\n",
       "      <td>6762.000000</td>\n",
       "      <td>1.000000</td>\n",
       "    </tr>\n",
       "  </tbody>\n",
       "</table>\n",
       "</div>"
      ],
      "text/plain": [
       "           Coverage  Covered Length  Full Length  Coverage Percentage\n",
       "count   4538.000000     4538.000000  4538.000000          4538.000000\n",
       "mean     333.808506      203.684442   204.142794             0.998652\n",
       "std      515.903394      292.479129   294.105149             0.022070\n",
       "min        0.000000        0.000000   120.000000             0.000000\n",
       "25%      178.000000      120.000000   120.000000             1.000000\n",
       "50%      252.000000      128.000000   128.000000             1.000000\n",
       "75%      351.000000      188.000000   188.750000             1.000000\n",
       "max    14905.000000     6680.000000  6762.000000             1.000000"
      ]
     },
     "execution_count": 55,
     "metadata": {},
     "output_type": "execute_result"
    }
   ],
   "source": [
    "good.iloc[:, 3:].describe()"
   ]
  },
  {
   "cell_type": "code",
   "execution_count": 45,
   "metadata": {},
   "outputs": [
    {
     "data": {
      "image/png": "[encoded data removed]",
      "text/plain": [
       "<Figure size 432x288 with 1 Axes>"
      ]
     },
     "metadata": {
      "needs_background": "light"
     },
     "output_type": "display_data"
    }
   ],
   "source": [
    "# Histograma da distribuição de porcentagem de cobertura\n",
    "\n",
    "plots = sns.histplot(good[\"Coverage Percentage\"])\n",
    "plots.figure.savefig(\"../Figuras/coverage_in_hist_percentage.png\")"
   ]
  },
  {
   "cell_type": "code",
   "execution_count": 46,
   "metadata": {},
   "outputs": [
    {
     "data": {
      "image/png": "[encoded data removed]",
      "text/plain": [
       "<Figure size 432x288 with 1 Axes>"
      ]
     },
     "metadata": {
      "needs_background": "light"
     },
     "output_type": "display_data"
    }
   ],
   "source": [
    "# Histograma da distribuição de porcentagem de cobertura\n",
    "\n",
    "plots = sns.histplot(good.loc[good[\"Coverage Percentage\"]<1, \"Coverage Percentage\"], bins=20)\n",
    "plots.figure.savefig(\"../Figuras/coverage_in_hist_percentage<1.png\")"
   ]
  },
  {
   "cell_type": "code",
   "execution_count": 47,
   "metadata": {},
   "outputs": [
    {
     "data": {
      "image/png": "[encoded data removed]",
      "text/plain": [
       "<Figure size 432x288 with 1 Axes>"
      ]
     },
     "metadata": {
      "needs_background": "light"
     },
     "output_type": "display_data"
    }
   ],
   "source": [
    "# Histograma da distribuição de porcentagem de cobertura\n",
    "\n",
    "plots = sns.histplot(good[\"Coverage\"])\n",
    "plots.figure.savefig(\"../Figuras/coverage_in_hist_abs.png\")"
   ]
  },
  {
   "cell_type": "code",
   "execution_count": 48,
   "metadata": {},
   "outputs": [
    {
     "data": {
      "image/png": "[encoded data removed]",
      "text/plain": [
       "<Figure size 432x288 with 1 Axes>"
      ]
     },
     "metadata": {
      "needs_background": "light"
     },
     "output_type": "display_data"
    }
   ],
   "source": [
    "# Histograma da distribuição de porcentagem de cobertura\n",
    "\n",
    "plots = sns.histplot(good.loc[good[\"Coverage\"]<2000, \"Coverage\"])\n",
    "plots.figure.savefig(\"../Figuras/coverage_in_hist_abs<2000.png\")"
   ]
  },
  {
   "cell_type": "markdown",
   "metadata": {},
   "source": [
    "### Regiões não cobertas pelo painel"
   ]
  },
  {
   "cell_type": "code",
   "execution_count": 49,
   "metadata": {},
   "outputs": [
    {
     "data": {
      "text/html": [
       "<div>\n",
       "<style scoped>\n",
       "    .dataframe tbody tr th:only-of-type {\n",
       "        vertical-align: middle;\n",
       "    }\n",
       "\n",
       "    .dataframe tbody tr th {\n",
       "        vertical-align: top;\n",
       "    }\n",
       "\n",
       "    .dataframe thead th {\n",
       "        text-align: right;\n",
       "    }\n",
       "</style>\n",
       "<table border=\"1\" class=\"dataframe\">\n",
       "  <thead>\n",
       "    <tr style=\"text-align: right;\">\n",
       "      <th></th>\n",
       "      <th>Chr</th>\n",
       "      <th>Start</th>\n",
       "      <th>End</th>\n",
       "      <th>Coverage</th>\n",
       "      <th>Covered Length</th>\n",
       "      <th>Full Length</th>\n",
       "      <th>Coverage Percentage</th>\n",
       "    </tr>\n",
       "  </thead>\n",
       "  <tbody>\n",
       "    <tr>\n",
       "      <th>0</th>\n",
       "      <td>chr22</td>\n",
       "      <td>0</td>\n",
       "      <td>15528158</td>\n",
       "      <td>9042</td>\n",
       "      <td>66555</td>\n",
       "      <td>15528158</td>\n",
       "      <td>0.004286</td>\n",
       "    </tr>\n",
       "    <tr>\n",
       "      <th>1</th>\n",
       "      <td>chr22</td>\n",
       "      <td>15529139</td>\n",
       "      <td>15690077</td>\n",
       "      <td>1831</td>\n",
       "      <td>14378</td>\n",
       "      <td>160938</td>\n",
       "      <td>0.089339</td>\n",
       "    </tr>\n",
       "    <tr>\n",
       "      <th>2</th>\n",
       "      <td>chr22</td>\n",
       "      <td>15690709</td>\n",
       "      <td>15695367</td>\n",
       "      <td>302</td>\n",
       "      <td>512</td>\n",
       "      <td>4658</td>\n",
       "      <td>0.109918</td>\n",
       "    </tr>\n",
       "    <tr>\n",
       "      <th>3</th>\n",
       "      <td>chr22</td>\n",
       "      <td>15695487</td>\n",
       "      <td>15695644</td>\n",
       "      <td>207</td>\n",
       "      <td>157</td>\n",
       "      <td>157</td>\n",
       "      <td>1.000000</td>\n",
       "    </tr>\n",
       "    <tr>\n",
       "      <th>4</th>\n",
       "      <td>chr22</td>\n",
       "      <td>15695818</td>\n",
       "      <td>15698654</td>\n",
       "      <td>104</td>\n",
       "      <td>380</td>\n",
       "      <td>2836</td>\n",
       "      <td>0.133991</td>\n",
       "    </tr>\n",
       "  </tbody>\n",
       "</table>\n",
       "</div>"
      ],
      "text/plain": [
       "     Chr     Start       End  Coverage  Covered Length  Full Length  \\\n",
       "0  chr22         0  15528158      9042           66555     15528158   \n",
       "1  chr22  15529139  15690077      1831           14378       160938   \n",
       "2  chr22  15690709  15695367       302             512         4658   \n",
       "3  chr22  15695487  15695644       207             157          157   \n",
       "4  chr22  15695818  15698654       104             380         2836   \n",
       "\n",
       "   Coverage Percentage  \n",
       "0             0.004286  \n",
       "1             0.089339  \n",
       "2             0.109918  \n",
       "3             1.000000  \n",
       "4             0.133991  "
      ]
     },
     "execution_count": 49,
     "metadata": {},
     "output_type": "execute_result"
    }
   ],
   "source": [
    "# Leitura do pequeno-gabarito\n",
    "bad = pd.read_csv('../temp/hist_bad.bed', sep=\"\\t\", header=None)\n",
    "bad.columns = [\"Chr\", \"Start\", \"End\", \"Coverage\", \"Covered Length\", \"Full Length\", \"Coverage Percentage\"]\n",
    "bad.head()"
   ]
  },
  {
   "cell_type": "code",
   "execution_count": 56,
   "metadata": {},
   "outputs": [
    {
     "data": {
      "text/html": [
       "<div>\n",
       "<style scoped>\n",
       "    .dataframe tbody tr th:only-of-type {\n",
       "        vertical-align: middle;\n",
       "    }\n",
       "\n",
       "    .dataframe tbody tr th {\n",
       "        vertical-align: top;\n",
       "    }\n",
       "\n",
       "    .dataframe thead th {\n",
       "        text-align: right;\n",
       "    }\n",
       "</style>\n",
       "<table border=\"1\" class=\"dataframe\">\n",
       "  <thead>\n",
       "    <tr style=\"text-align: right;\">\n",
       "      <th></th>\n",
       "      <th>Coverage</th>\n",
       "      <th>Covered Length</th>\n",
       "      <th>Full Length</th>\n",
       "      <th>Coverage Percentage</th>\n",
       "    </tr>\n",
       "  </thead>\n",
       "  <tbody>\n",
       "    <tr>\n",
       "      <th>count</th>\n",
       "      <td>4539.000000</td>\n",
       "      <td>4539.000000</td>\n",
       "      <td>4.539000e+03</td>\n",
       "      <td>4539.000000</td>\n",
       "    </tr>\n",
       "    <tr>\n",
       "      <th>mean</th>\n",
       "      <td>214.936770</td>\n",
       "      <td>617.708746</td>\n",
       "      <td>1.099186e+04</td>\n",
       "      <td>0.466735</td>\n",
       "    </tr>\n",
       "    <tr>\n",
       "      <th>std</th>\n",
       "      <td>283.701639</td>\n",
       "      <td>1546.438345</td>\n",
       "      <td>2.335940e+05</td>\n",
       "      <td>0.375001</td>\n",
       "    </tr>\n",
       "    <tr>\n",
       "      <th>min</th>\n",
       "      <td>6.000000</td>\n",
       "      <td>1.000000</td>\n",
       "      <td>1.000000e+00</td>\n",
       "      <td>0.004286</td>\n",
       "    </tr>\n",
       "    <tr>\n",
       "      <th>25%</th>\n",
       "      <td>145.000000</td>\n",
       "      <td>326.000000</td>\n",
       "      <td>4.465000e+02</td>\n",
       "      <td>0.125181</td>\n",
       "    </tr>\n",
       "    <tr>\n",
       "      <th>50%</th>\n",
       "      <td>189.000000</td>\n",
       "      <td>451.000000</td>\n",
       "      <td>1.493000e+03</td>\n",
       "      <td>0.330645</td>\n",
       "    </tr>\n",
       "    <tr>\n",
       "      <th>75%</th>\n",
       "      <td>236.500000</td>\n",
       "      <td>594.500000</td>\n",
       "      <td>4.156000e+03</td>\n",
       "      <td>0.986485</td>\n",
       "    </tr>\n",
       "    <tr>\n",
       "      <th>max</th>\n",
       "      <td>9042.000000</td>\n",
       "      <td>66555.000000</td>\n",
       "      <td>1.552816e+07</td>\n",
       "      <td>1.000000</td>\n",
       "    </tr>\n",
       "  </tbody>\n",
       "</table>\n",
       "</div>"
      ],
      "text/plain": [
       "          Coverage  Covered Length   Full Length  Coverage Percentage\n",
       "count  4539.000000     4539.000000  4.539000e+03          4539.000000\n",
       "mean    214.936770      617.708746  1.099186e+04             0.466735\n",
       "std     283.701639     1546.438345  2.335940e+05             0.375001\n",
       "min       6.000000        1.000000  1.000000e+00             0.004286\n",
       "25%     145.000000      326.000000  4.465000e+02             0.125181\n",
       "50%     189.000000      451.000000  1.493000e+03             0.330645\n",
       "75%     236.500000      594.500000  4.156000e+03             0.986485\n",
       "max    9042.000000    66555.000000  1.552816e+07             1.000000"
      ]
     },
     "execution_count": 56,
     "metadata": {},
     "output_type": "execute_result"
    }
   ],
   "source": [
    "bad.iloc[:, 3:].describe()"
   ]
  },
  {
   "cell_type": "code",
   "execution_count": 57,
   "metadata": {},
   "outputs": [
    {
     "data": {
      "image/png": "[encoded data removed]",
      "text/plain": [
       "<Figure size 432x288 with 1 Axes>"
      ]
     },
     "metadata": {
      "needs_background": "light"
     },
     "output_type": "display_data"
    }
   ],
   "source": [
    "# Histograma da distribuição de porcentagem de cobertura\n",
    "\n",
    "plots = sns.histplot(bad[\"Coverage Percentage\"], bins=20, color=\"red\")\n",
    "plots.figure.savefig(\"../Figuras/coverage_out_hist_percentage.png\")"
   ]
  },
  {
   "cell_type": "code",
   "execution_count": 58,
   "metadata": {},
   "outputs": [
    {
     "data": {
      "image/png": "[encoded data removed]",
      "text/plain": [
       "<Figure size 432x288 with 1 Axes>"
      ]
     },
     "metadata": {
      "needs_background": "light"
     },
     "output_type": "display_data"
    }
   ],
   "source": [
    "# Histograma da distribuição de porcentagem de cobertura\n",
    "\n",
    "plots = sns.histplot(bad[\"Coverage\"], color=\"red\")\n",
    "plots.figure.savefig(\"../Figuras/coverage_out_hist_abs.png\")"
   ]
  },
  {
   "cell_type": "code",
   "execution_count": 60,
   "metadata": {},
   "outputs": [
    {
     "data": {
      "image/png": "[encoded data removed]",
      "text/plain": [
       "<Figure size 432x288 with 1 Axes>"
      ]
     },
     "metadata": {
      "needs_background": "light"
     },
     "output_type": "display_data"
    }
   ],
   "source": [
    "# Histograma da distribuição de porcentagem de cobertura\n",
    "\n",
    "plots = sns.histplot(bad.loc[bad[\"Coverage\"]<1000, \"Coverage\"], color=\"red\")\n",
    "plots.figure.savefig(\"../Figuras/coverage_out_hist_abs<1000.png\")"
   ]
  },
  {
   "cell_type": "code",
   "execution_count": 103,
   "metadata": {},
   "outputs": [
    {
     "data": {
      "text/plain": [
       "1514823"
      ]
     },
     "execution_count": 103,
     "metadata": {},
     "output_type": "execute_result"
    }
   ],
   "source": [
    "good[\"Coverage\"].sum()"
   ]
  },
  {
   "cell_type": "code",
   "execution_count": 104,
   "metadata": {},
   "outputs": [
    {
     "data": {
      "text/plain": [
       "975598"
      ]
     },
     "execution_count": 104,
     "metadata": {},
     "output_type": "execute_result"
    }
   ],
   "source": [
    "bad[\"Coverage\"].sum()"
   ]
  }
 ],
 "metadata": {
  "kernelspec": {
   "display_name": "Python 3",
   "language": "python",
   "name": "python3"
  },
  "language_info": {
   "codemirror_mode": {
    "name": "ipython",
    "version": 3
   },
   "file_extension": ".py",
   "mimetype": "text/x-python",
   "name": "python",
   "nbconvert_exporter": "python",
   "pygments_lexer": "ipython3",
   "version": "3.6.9"
  }
 },
 "nbformat": 4,
 "nbformat_minor": 4
}
